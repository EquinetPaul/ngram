{
 "cells": [
  {
   "cell_type": "code",
   "execution_count": 24,
   "id": "ca6dd1eb-2c3b-499c-afc5-7c8382648a84",
   "metadata": {},
   "outputs": [],
   "source": [
    "import vocabulary\n",
    "import matplotlib.pyplot as plt\n",
    "import ngram\n",
    "from glob import glob\n",
    "from tqdm import tqdm\n",
    "import random"
   ]
  },
  {
   "cell_type": "code",
   "execution_count": 14,
   "id": "43623c4e-0839-4926-8352-125f68dce893",
   "metadata": {},
   "outputs": [],
   "source": [
    "vocab = vocabulary.Vocabulary()\n",
    "vocab.load(\"data/vocabs/macron.vocab\")"
   ]
  },
  {
   "cell_type": "code",
   "execution_count": 19,
   "id": "9125e4ff-140b-4a19-a4d0-d2faf77c9f0a",
   "metadata": {},
   "outputs": [
    {
     "name": "stdout",
     "output_type": "stream",
     "text": [
      "13636\n",
      "bonjour\n"
     ]
    }
   ],
   "source": [
    "chain = \"bonjour\"\n",
    "new = vocab.chain_to_ids(chain)\n",
    "last = vocab.ids_to_chain(new)\n",
    "print(new)\n",
    "print(last)"
   ]
  },
  {
   "cell_type": "code",
   "execution_count": 45,
   "id": "40524271-7e47-4ff8-b4e1-8c556fcbce51",
   "metadata": {},
   "outputs": [
    {
     "data": {
      "text/plain": [
       "[4, 5]"
      ]
     },
     "execution_count": 45,
     "metadata": {},
     "output_type": "execute_result"
    }
   ],
   "source": [
    "[1,2,3,4,5][-2:]"
   ]
  },
  {
   "cell_type": "code",
   "execution_count": 107,
   "id": "b0efe42d-0edc-4b7e-a0a0-dadd8808b306",
   "metadata": {},
   "outputs": [
    {
     "data": {
      "text/plain": [
       "'1 2 3 4 867'"
      ]
     },
     "execution_count": 107,
     "metadata": {},
     "output_type": "execute_result"
    }
   ],
   "source": [
    "chain = \"Mesdames et Messieurs les ministres\"\n",
    "chain_ids = vocab.chain_to_ids(chain)\n",
    "chain_ids"
   ]
  },
  {
   "cell_type": "code",
   "execution_count": 112,
   "id": "570dd084-d10d-47d4-bbf9-4895880bd892",
   "metadata": {},
   "outputs": [
    {
     "data": {
      "text/plain": [
       "True"
      ]
     },
     "execution_count": 112,
     "metadata": {},
     "output_type": "execute_result"
    }
   ],
   "source": [
    "1 in list((1,5,6,9,8))"
   ]
  },
  {
   "cell_type": "code",
   "execution_count": 103,
   "id": "aebe5b11-e52a-44b1-a92e-793743637b0f",
   "metadata": {},
   "outputs": [
    {
     "ename": "KeyError",
     "evalue": "\"Le mot '18037' n'existe pas dans le vocabulaire\"",
     "output_type": "error",
     "traceback": [
      "\u001b[1;31m---------------------------------------------------------------------------\u001b[0m",
      "\u001b[1;31mKeyError\u001b[0m                                  Traceback (most recent call last)",
      "Cell \u001b[1;32mIn [103], line 7\u001b[0m\n\u001b[0;32m      4\u001b[0m \u001b[38;5;66;03m# chain = \"Mesdames et Messieurs les ministres\"\u001b[39;00m\n\u001b[0;32m      5\u001b[0m chain \u001b[38;5;241m=\u001b[39m \u001b[38;5;124m\"\u001b[39m\u001b[38;5;124m \u001b[39m\u001b[38;5;124m\"\u001b[39m\u001b[38;5;241m.\u001b[39mjoin([\u001b[38;5;28mstr\u001b[39m(text) \u001b[38;5;28;01mfor\u001b[39;00m text \u001b[38;5;129;01min\u001b[39;00m random\u001b[38;5;241m.\u001b[39mchoice(\u001b[38;5;28mlist\u001b[39m(gram\u001b[38;5;241m.\u001b[39mchain_frequency\u001b[38;5;241m.\u001b[39mkeys()))])\n\u001b[1;32m----> 7\u001b[0m chain_ids \u001b[38;5;241m=\u001b[39m \u001b[43mvocab\u001b[49m\u001b[38;5;241;43m.\u001b[39;49m\u001b[43mchain_to_ids\u001b[49m\u001b[43m(\u001b[49m\u001b[43mchain\u001b[49m\u001b[43m)\u001b[49m\n\u001b[0;32m      8\u001b[0m result \u001b[38;5;241m=\u001b[39m chain\n\u001b[0;32m      9\u001b[0m \u001b[38;5;28;01mwhile\u001b[39;00m \u001b[38;5;28mlen\u001b[39m(result\u001b[38;5;241m.\u001b[39msplit())\u001b[38;5;241m!=\u001b[39m\u001b[38;5;241m100\u001b[39m:\n",
      "File \u001b[1;32m~\\Desktop\\ngram_nlp\\vocabulary\\vocabulary.py:50\u001b[0m, in \u001b[0;36mVocabulary.chain_to_ids\u001b[1;34m(self, text)\u001b[0m\n\u001b[0;32m     46\u001b[0m \u001b[38;5;28;01mdef\u001b[39;00m \u001b[38;5;21mchain_to_ids\u001b[39m(\u001b[38;5;28mself\u001b[39m, text):\n\u001b[0;32m     47\u001b[0m     \u001b[38;5;124;03m\"\"\"\u001b[39;00m\n\u001b[0;32m     48\u001b[0m \u001b[38;5;124;03m    Retourne une chaine de caractères convertie en ids\u001b[39;00m\n\u001b[0;32m     49\u001b[0m \u001b[38;5;124;03m    \"\"\"\u001b[39;00m\n\u001b[1;32m---> 50\u001b[0m     result \u001b[38;5;241m=\u001b[39m \u001b[38;5;124m\"\u001b[39m\u001b[38;5;124m \u001b[39m\u001b[38;5;124m\"\u001b[39m\u001b[38;5;241m.\u001b[39mjoin([\u001b[38;5;28mstr\u001b[39m(\u001b[38;5;28mself\u001b[39m\u001b[38;5;241m.\u001b[39mword_to_id(t)) \u001b[38;5;28;01mfor\u001b[39;00m t \u001b[38;5;129;01min\u001b[39;00m text\u001b[38;5;241m.\u001b[39msplit()])\n\u001b[0;32m     51\u001b[0m     \u001b[38;5;28;01mreturn\u001b[39;00m result\n",
      "File \u001b[1;32m~\\Desktop\\ngram_nlp\\vocabulary\\vocabulary.py:50\u001b[0m, in \u001b[0;36m<listcomp>\u001b[1;34m(.0)\u001b[0m\n\u001b[0;32m     46\u001b[0m \u001b[38;5;28;01mdef\u001b[39;00m \u001b[38;5;21mchain_to_ids\u001b[39m(\u001b[38;5;28mself\u001b[39m, text):\n\u001b[0;32m     47\u001b[0m     \u001b[38;5;124;03m\"\"\"\u001b[39;00m\n\u001b[0;32m     48\u001b[0m \u001b[38;5;124;03m    Retourne une chaine de caractères convertie en ids\u001b[39;00m\n\u001b[0;32m     49\u001b[0m \u001b[38;5;124;03m    \"\"\"\u001b[39;00m\n\u001b[1;32m---> 50\u001b[0m     result \u001b[38;5;241m=\u001b[39m \u001b[38;5;124m\"\u001b[39m\u001b[38;5;124m \u001b[39m\u001b[38;5;124m\"\u001b[39m\u001b[38;5;241m.\u001b[39mjoin([\u001b[38;5;28mstr\u001b[39m(\u001b[38;5;28;43mself\u001b[39;49m\u001b[38;5;241;43m.\u001b[39;49m\u001b[43mword_to_id\u001b[49m\u001b[43m(\u001b[49m\u001b[43mt\u001b[49m\u001b[43m)\u001b[49m) \u001b[38;5;28;01mfor\u001b[39;00m t \u001b[38;5;129;01min\u001b[39;00m text\u001b[38;5;241m.\u001b[39msplit()])\n\u001b[0;32m     51\u001b[0m     \u001b[38;5;28;01mreturn\u001b[39;00m result\n",
      "File \u001b[1;32m~\\Desktop\\ngram_nlp\\vocabulary\\vocabulary.py:34\u001b[0m, in \u001b[0;36mVocabulary.word_to_id\u001b[1;34m(self, word)\u001b[0m\n\u001b[0;32m     32\u001b[0m word_id \u001b[38;5;241m=\u001b[39m \u001b[38;5;28mself\u001b[39m\u001b[38;5;241m.\u001b[39mvocab\u001b[38;5;241m.\u001b[39mget(word)\n\u001b[0;32m     33\u001b[0m \u001b[38;5;28;01mif\u001b[39;00m word_id \u001b[38;5;129;01mis\u001b[39;00m \u001b[38;5;28;01mNone\u001b[39;00m:\n\u001b[1;32m---> 34\u001b[0m     \u001b[38;5;28;01mraise\u001b[39;00m \u001b[38;5;167;01mKeyError\u001b[39;00m(\u001b[38;5;124mf\u001b[39m\u001b[38;5;124m\"\u001b[39m\u001b[38;5;124mLe mot \u001b[39m\u001b[38;5;124m'\u001b[39m\u001b[38;5;132;01m{\u001b[39;00mword\u001b[38;5;132;01m}\u001b[39;00m\u001b[38;5;124m'\u001b[39m\u001b[38;5;124m n\u001b[39m\u001b[38;5;124m'\u001b[39m\u001b[38;5;124mexiste pas dans le vocabulaire\u001b[39m\u001b[38;5;124m\"\u001b[39m)\n\u001b[0;32m     35\u001b[0m \u001b[38;5;28;01mreturn\u001b[39;00m word_id\n",
      "\u001b[1;31mKeyError\u001b[0m: \"Le mot '18037' n'existe pas dans le vocabulaire\""
     ]
    }
   ],
   "source": [
    "gram = ngram.Ngram()\n",
    "gram.load(\"data/ngram/macron/5/model.ngram\")\n",
    "n = 5\n",
    "chain = \"Mesdames et Messieurs les ministres\"\n",
    "\n",
    "chain_ids = vocab.chain_to_ids(chain)\n",
    "result = chain\n",
    "while len(result.split())!=100:\n",
    "    get = gram.chain_frequency.get(tuple([int(i) for i in chain_ids.split()[-n:]]))\n",
    "    next_word = random.choices(list(get.keys()), weights=list(get.values()), k=1)\n",
    "    chain_ids += \" \" + str(next_word[0])\n",
    "    result = vocab.ids_to_chain(chain_ids)\n",
    "while result[-1] not in [\".\", \"!\", \"?\"]:\n",
    "    get = gram.chain_frequency.get(tuple([int(i) for i in chain_ids.split()[-n:]]))\n",
    "    next_word = random.choices(list(get.keys()), weights=list(get.values()), k=1)\n",
    "    chain_ids += \" \" + str(next_word[0])\n",
    "    result = vocab.ids_to_chain(chain_ids)\n",
    "print(result)"
   ]
  },
  {
   "cell_type": "code",
   "execution_count": null,
   "id": "9d96ab03-833a-4412-8070-38aacf9baad9",
   "metadata": {},
   "outputs": [],
   "source": []
  },
  {
   "cell_type": "code",
   "execution_count": null,
   "id": "ab13bc6e-5e0a-4e08-8f8f-519d5f6edfd7",
   "metadata": {},
   "outputs": [],
   "source": []
  }
 ],
 "metadata": {
  "kernelspec": {
   "display_name": "datascience",
   "language": "python",
   "name": "datascience"
  },
  "language_info": {
   "codemirror_mode": {
    "name": "ipython",
    "version": 3
   },
   "file_extension": ".py",
   "mimetype": "text/x-python",
   "name": "python",
   "nbconvert_exporter": "python",
   "pygments_lexer": "ipython3",
   "version": "3.9.12"
  }
 },
 "nbformat": 4,
 "nbformat_minor": 5
}
